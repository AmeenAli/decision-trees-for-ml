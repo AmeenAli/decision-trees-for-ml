{
 "cells": [
  {
   "cell_type": "code",
   "execution_count": 1,
   "metadata": {},
   "outputs": [],
   "source": [
    "import pandas as pd"
   ]
  },
  {
   "cell_type": "code",
   "execution_count": 2,
   "metadata": {},
   "outputs": [],
   "source": [
    "df = pd.read_csv(\"golf2.txt\")"
   ]
  },
  {
   "cell_type": "code",
   "execution_count": 3,
   "metadata": {},
   "outputs": [
    {
     "data": {
      "text/html": [
       "<div>\n",
       "<style scoped>\n",
       "    .dataframe tbody tr th:only-of-type {\n",
       "        vertical-align: middle;\n",
       "    }\n",
       "\n",
       "    .dataframe tbody tr th {\n",
       "        vertical-align: top;\n",
       "    }\n",
       "\n",
       "    .dataframe thead th {\n",
       "        text-align: right;\n",
       "    }\n",
       "</style>\n",
       "<table border=\"1\" class=\"dataframe\">\n",
       "  <thead>\n",
       "    <tr style=\"text-align: right;\">\n",
       "      <th></th>\n",
       "      <th>Outlook</th>\n",
       "      <th>Temp.</th>\n",
       "      <th>Humidity</th>\n",
       "      <th>Wind</th>\n",
       "      <th>Decision</th>\n",
       "    </tr>\n",
       "  </thead>\n",
       "  <tbody>\n",
       "    <tr>\n",
       "      <th>0</th>\n",
       "      <td>Sunny</td>\n",
       "      <td>85</td>\n",
       "      <td>85</td>\n",
       "      <td>Weak</td>\n",
       "      <td>No</td>\n",
       "    </tr>\n",
       "    <tr>\n",
       "      <th>1</th>\n",
       "      <td>Sunny</td>\n",
       "      <td>80</td>\n",
       "      <td>90</td>\n",
       "      <td>Strong</td>\n",
       "      <td>No</td>\n",
       "    </tr>\n",
       "    <tr>\n",
       "      <th>2</th>\n",
       "      <td>Overcast</td>\n",
       "      <td>83</td>\n",
       "      <td>78</td>\n",
       "      <td>Weak</td>\n",
       "      <td>Yes</td>\n",
       "    </tr>\n",
       "    <tr>\n",
       "      <th>3</th>\n",
       "      <td>Rain</td>\n",
       "      <td>70</td>\n",
       "      <td>96</td>\n",
       "      <td>Weak</td>\n",
       "      <td>Yes</td>\n",
       "    </tr>\n",
       "    <tr>\n",
       "      <th>4</th>\n",
       "      <td>Rain</td>\n",
       "      <td>68</td>\n",
       "      <td>80</td>\n",
       "      <td>Weak</td>\n",
       "      <td>Yes</td>\n",
       "    </tr>\n",
       "  </tbody>\n",
       "</table>\n",
       "</div>"
      ],
      "text/plain": [
       "    Outlook  Temp.  Humidity    Wind Decision\n",
       "0     Sunny     85        85    Weak       No\n",
       "1     Sunny     80        90  Strong       No\n",
       "2  Overcast     83        78    Weak      Yes\n",
       "3      Rain     70        96    Weak      Yes\n",
       "4      Rain     68        80    Weak      Yes"
      ]
     },
     "execution_count": 3,
     "metadata": {},
     "output_type": "execute_result"
    }
   ],
   "source": [
    "df.head()"
   ]
  },
  {
   "cell_type": "code",
   "execution_count": 4,
   "metadata": {},
   "outputs": [],
   "source": [
    "target_name = 'Decision'"
   ]
  },
  {
   "cell_type": "markdown",
   "metadata": {},
   "source": [
    "# Pre-processing"
   ]
  },
  {
   "cell_type": "code",
   "execution_count": 5,
   "metadata": {},
   "outputs": [],
   "source": [
    "categorical_features = []\n",
    "features_names = []"
   ]
  },
  {
   "cell_type": "code",
   "execution_count": 6,
   "metadata": {},
   "outputs": [
    {
     "name": "stdout",
     "output_type": "stream",
     "text": [
      "Decision  column has  ['No' 'Yes']  classes\n",
      "No  is transformed to  0\n",
      "Yes  is transformed to  1\n"
     ]
    }
   ],
   "source": [
    "for col in df.columns:\n",
    "    features_names.append(col)\n",
    "    \n",
    "    if df[col].dtype == 'object': #categorical features\n",
    "        if col != target_name:\n",
    "            categorical_features.append(col)\n",
    "        else:\n",
    "        #if True:\n",
    "            unique_values =  df[col].unique()\n",
    "            print(col,\" column has \",unique_values,\" classes\")\n",
    "\n",
    "            for j in range(0, len(unique_values)):\n",
    "                idx = df[df[col] == unique_values[j]].index\n",
    "                df.loc[idx, col] = j\n",
    "                print(unique_values[j],\" is transformed to \",(j))"
   ]
  },
  {
   "cell_type": "code",
   "execution_count": 7,
   "metadata": {},
   "outputs": [
    {
     "name": "stdout",
     "output_type": "stream",
     "text": [
      "data set features:  ['Outlook', 'Temp.', 'Humidity', 'Wind', 'Decision']\n",
      "categorical features in the data set:  ['Outlook', 'Wind']\n"
     ]
    }
   ],
   "source": [
    "print(\"data set features: \", features_names)\n",
    "print(\"categorical features in the data set: \", categorical_features)"
   ]
  },
  {
   "cell_type": "markdown",
   "metadata": {},
   "source": [
    "# One hot encoding for categorical features"
   ]
  },
  {
   "cell_type": "code",
   "execution_count": 8,
   "metadata": {},
   "outputs": [],
   "source": [
    "for column in categorical_features:\n",
    "    unique_values = df[column].unique()\n",
    "    one_hot = pd.get_dummies(unique_values, prefix=column)\n",
    "    one_hot[column] = unique_values\n",
    "    \n",
    "    df = df.merge(one_hot, left_on = [column], right_on=[column], how=\"left\")\n",
    "    df = df.drop(columns = [column])"
   ]
  },
  {
   "cell_type": "code",
   "execution_count": 9,
   "metadata": {},
   "outputs": [
    {
     "data": {
      "text/html": [
       "<div>\n",
       "<style scoped>\n",
       "    .dataframe tbody tr th:only-of-type {\n",
       "        vertical-align: middle;\n",
       "    }\n",
       "\n",
       "    .dataframe tbody tr th {\n",
       "        vertical-align: top;\n",
       "    }\n",
       "\n",
       "    .dataframe thead th {\n",
       "        text-align: right;\n",
       "    }\n",
       "</style>\n",
       "<table border=\"1\" class=\"dataframe\">\n",
       "  <thead>\n",
       "    <tr style=\"text-align: right;\">\n",
       "      <th></th>\n",
       "      <th>Temp.</th>\n",
       "      <th>Humidity</th>\n",
       "      <th>Decision</th>\n",
       "      <th>Outlook_Overcast</th>\n",
       "      <th>Outlook_Rain</th>\n",
       "      <th>Outlook_Sunny</th>\n",
       "      <th>Wind_Strong</th>\n",
       "      <th>Wind_Weak</th>\n",
       "    </tr>\n",
       "  </thead>\n",
       "  <tbody>\n",
       "    <tr>\n",
       "      <th>0</th>\n",
       "      <td>85</td>\n",
       "      <td>85</td>\n",
       "      <td>0</td>\n",
       "      <td>0</td>\n",
       "      <td>0</td>\n",
       "      <td>1</td>\n",
       "      <td>0</td>\n",
       "      <td>1</td>\n",
       "    </tr>\n",
       "    <tr>\n",
       "      <th>1</th>\n",
       "      <td>80</td>\n",
       "      <td>90</td>\n",
       "      <td>0</td>\n",
       "      <td>0</td>\n",
       "      <td>0</td>\n",
       "      <td>1</td>\n",
       "      <td>1</td>\n",
       "      <td>0</td>\n",
       "    </tr>\n",
       "    <tr>\n",
       "      <th>2</th>\n",
       "      <td>83</td>\n",
       "      <td>78</td>\n",
       "      <td>1</td>\n",
       "      <td>1</td>\n",
       "      <td>0</td>\n",
       "      <td>0</td>\n",
       "      <td>0</td>\n",
       "      <td>1</td>\n",
       "    </tr>\n",
       "    <tr>\n",
       "      <th>3</th>\n",
       "      <td>70</td>\n",
       "      <td>96</td>\n",
       "      <td>1</td>\n",
       "      <td>0</td>\n",
       "      <td>1</td>\n",
       "      <td>0</td>\n",
       "      <td>0</td>\n",
       "      <td>1</td>\n",
       "    </tr>\n",
       "    <tr>\n",
       "      <th>4</th>\n",
       "      <td>68</td>\n",
       "      <td>80</td>\n",
       "      <td>1</td>\n",
       "      <td>0</td>\n",
       "      <td>1</td>\n",
       "      <td>0</td>\n",
       "      <td>0</td>\n",
       "      <td>1</td>\n",
       "    </tr>\n",
       "  </tbody>\n",
       "</table>\n",
       "</div>"
      ],
      "text/plain": [
       "   Temp.  Humidity  Decision  Outlook_Overcast  Outlook_Rain  Outlook_Sunny  \\\n",
       "0     85        85         0                 0             0              1   \n",
       "1     80        90         0                 0             0              1   \n",
       "2     83        78         1                 1             0              0   \n",
       "3     70        96         1                 0             1              0   \n",
       "4     68        80         1                 0             1              0   \n",
       "\n",
       "   Wind_Strong  Wind_Weak  \n",
       "0            0          1  \n",
       "1            1          0  \n",
       "2            0          1  \n",
       "3            0          1  \n",
       "4            0          1  "
      ]
     },
     "execution_count": 9,
     "metadata": {},
     "output_type": "execute_result"
    }
   ],
   "source": [
    "df.head()"
   ]
  },
  {
   "cell_type": "markdown",
   "metadata": {},
   "source": [
    "# Modelling"
   ]
  },
  {
   "cell_type": "code",
   "execution_count": 10,
   "metadata": {},
   "outputs": [],
   "source": [
    "import xgboost"
   ]
  },
  {
   "cell_type": "code",
   "execution_count": 11,
   "metadata": {},
   "outputs": [],
   "source": [
    "enableRegression = False #classification or regression"
   ]
  },
  {
   "cell_type": "code",
   "execution_count": 12,
   "metadata": {},
   "outputs": [],
   "source": [
    "if enableRegression:\n",
    "    objective = 'rmse'\n",
    "    eval_metric = 'rmse'\n",
    "else:\n",
    "    eval_metric = 'logloss'\n",
    "    if len(df[target_name].unique()) == 2:\n",
    "        objective = 'binary:logistic'\n",
    "    else:\n",
    "        objective = 'multi:softmax'"
   ]
  },
  {
   "cell_type": "code",
   "execution_count": 13,
   "metadata": {},
   "outputs": [],
   "source": [
    "params = {\n",
    "    'learning_rate': 0.01\n",
    "    , 'max_depth': 5\n",
    "    , 'min_child_weight': 0.5\n",
    "    , 'n_estimators': 250\n",
    "    , 'seed': 17\n",
    "    , 'nthread':  2\n",
    "    , 'object':  objective\n",
    "    #, 'num_classes':  len(df[target_name].unique())\n",
    "}"
   ]
  },
  {
   "cell_type": "code",
   "execution_count": 14,
   "metadata": {},
   "outputs": [],
   "source": [
    "if enableRegression:\n",
    "    model = xgboost.XGBRegressor(**params)\n",
    "else:\n",
    "    model = xgboost.XGBClassifier(**params)"
   ]
  },
  {
   "cell_type": "code",
   "execution_count": 15,
   "metadata": {},
   "outputs": [],
   "source": [
    "eval_set = [(df.drop(columns=[target_name]), df[target_name])]"
   ]
  },
  {
   "cell_type": "code",
   "execution_count": 16,
   "metadata": {},
   "outputs": [
    {
     "name": "stdout",
     "output_type": "stream",
     "text": [
      "[0]\tvalidation_0-logloss:0.688826\n",
      "Will train until validation_0-logloss hasn't improved in 5 rounds.\n",
      "[1]\tvalidation_0-logloss:0.686785\n",
      "[2]\tvalidation_0-logloss:0.684757\n",
      "[3]\tvalidation_0-logloss:0.682745\n",
      "[4]\tvalidation_0-logloss:0.680755\n",
      "[5]\tvalidation_0-logloss:0.678762\n",
      "[6]\tvalidation_0-logloss:0.6768\n",
      "[7]\tvalidation_0-logloss:0.67486\n",
      "[8]\tvalidation_0-logloss:0.672186\n",
      "[9]\tvalidation_0-logloss:0.669522\n",
      "[10]\tvalidation_0-logloss:0.667589\n",
      "[11]\tvalidation_0-logloss:0.665677\n",
      "[12]\tvalidation_0-logloss:0.663796\n",
      "[13]\tvalidation_0-logloss:0.66119\n",
      "[14]\tvalidation_0-logloss:0.658606\n",
      "[15]\tvalidation_0-logloss:0.656743\n",
      "[16]\tvalidation_0-logloss:0.654912\n",
      "[17]\tvalidation_0-logloss:0.652374\n",
      "[18]\tvalidation_0-logloss:0.649856\n",
      "[19]\tvalidation_0-logloss:0.648041\n",
      "[20]\tvalidation_0-logloss:0.646258\n",
      "[21]\tvalidation_0-logloss:0.643786\n",
      "[22]\tvalidation_0-logloss:0.64133\n",
      "[23]\tvalidation_0-logloss:0.639557\n",
      "[24]\tvalidation_0-logloss:0.637804\n",
      "[25]\tvalidation_0-logloss:0.635383\n",
      "[26]\tvalidation_0-logloss:0.633653\n",
      "[27]\tvalidation_0-logloss:0.631947\n",
      "[28]\tvalidation_0-logloss:0.629569\n",
      "[29]\tvalidation_0-logloss:0.627872\n",
      "[30]\tvalidation_0-logloss:0.625518\n",
      "[31]\tvalidation_0-logloss:0.623844\n",
      "[32]\tvalidation_0-logloss:0.62219\n",
      "[33]\tvalidation_0-logloss:0.619878\n",
      "[34]\tvalidation_0-logloss:0.618232\n",
      "[35]\tvalidation_0-logloss:0.615945\n",
      "[36]\tvalidation_0-logloss:0.614321\n",
      "[37]\tvalidation_0-logloss:0.612068\n",
      "[38]\tvalidation_0-logloss:0.609823\n",
      "[39]\tvalidation_0-logloss:0.608231\n",
      "[40]\tvalidation_0-logloss:0.606655\n",
      "[41]\tvalidation_0-logloss:0.605088\n",
      "[42]\tvalidation_0-logloss:0.602887\n",
      "[43]\tvalidation_0-logloss:0.601336\n",
      "[44]\tvalidation_0-logloss:0.599159\n",
      "[45]\tvalidation_0-logloss:0.597628\n",
      "[46]\tvalidation_0-logloss:0.595475\n",
      "[47]\tvalidation_0-logloss:0.593965\n",
      "[48]\tvalidation_0-logloss:0.592465\n",
      "[49]\tvalidation_0-logloss:0.590359\n",
      "[50]\tvalidation_0-logloss:0.58826\n",
      "[51]\tvalidation_0-logloss:0.586168\n",
      "[52]\tvalidation_0-logloss:0.584703\n",
      "[53]\tvalidation_0-logloss:0.582632\n",
      "[54]\tvalidation_0-logloss:0.581186\n",
      "[55]\tvalidation_0-logloss:0.579137\n",
      "[56]\tvalidation_0-logloss:0.57771\n",
      "[57]\tvalidation_0-logloss:0.575683\n",
      "[58]\tvalidation_0-logloss:0.574273\n",
      "[59]\tvalidation_0-logloss:0.572878\n",
      "[60]\tvalidation_0-logloss:0.571474\n",
      "[61]\tvalidation_0-logloss:0.569484\n",
      "[62]\tvalidation_0-logloss:0.568109\n",
      "[63]\tvalidation_0-logloss:0.566141\n",
      "[64]\tvalidation_0-logloss:0.564783\n",
      "[65]\tvalidation_0-logloss:0.562835\n",
      "[66]\tvalidation_0-logloss:0.561494\n",
      "[67]\tvalidation_0-logloss:0.559567\n",
      "[68]\tvalidation_0-logloss:0.558242\n",
      "[69]\tvalidation_0-logloss:0.55691\n",
      "[70]\tvalidation_0-logloss:0.555012\n",
      "[71]\tvalidation_0-logloss:0.55371\n",
      "[72]\tvalidation_0-logloss:0.55183\n",
      "[73]\tvalidation_0-logloss:0.550543\n",
      "[74]\tvalidation_0-logloss:0.549266\n",
      "[75]\tvalidation_0-logloss:0.547412\n",
      "[76]\tvalidation_0-logloss:0.545593\n",
      "[77]\tvalidation_0-logloss:0.543766\n",
      "[78]\tvalidation_0-logloss:0.542512\n",
      "[79]\tvalidation_0-logloss:0.54127\n",
      "[80]\tvalidation_0-logloss:0.539464\n",
      "[81]\tvalidation_0-logloss:0.538237\n",
      "[82]\tvalidation_0-logloss:0.536996\n",
      "[83]\tvalidation_0-logloss:0.535228\n",
      "[84]\tvalidation_0-logloss:0.533461\n",
      "[85]\tvalidation_0-logloss:0.531707\n",
      "[86]\tvalidation_0-logloss:0.530509\n",
      "[87]\tvalidation_0-logloss:0.528771\n",
      "[88]\tvalidation_0-logloss:0.527588\n",
      "[89]\tvalidation_0-logloss:0.526415\n",
      "[90]\tvalidation_0-logloss:0.524697\n",
      "[91]\tvalidation_0-logloss:0.523538\n",
      "[92]\tvalidation_0-logloss:0.521836\n",
      "[93]\tvalidation_0-logloss:0.52069\n",
      "[94]\tvalidation_0-logloss:0.519009\n",
      "[95]\tvalidation_0-logloss:0.517871\n",
      "[96]\tvalidation_0-logloss:0.516206\n",
      "[97]\tvalidation_0-logloss:0.515081\n",
      "[98]\tvalidation_0-logloss:0.513433\n",
      "[99]\tvalidation_0-logloss:0.51232\n",
      "[100]\tvalidation_0-logloss:0.511219\n",
      "[101]\tvalidation_0-logloss:0.509588\n",
      "[102]\tvalidation_0-logloss:0.508497\n",
      "[103]\tvalidation_0-logloss:0.506895\n",
      "[104]\tvalidation_0-logloss:0.505292\n",
      "[105]\tvalidation_0-logloss:0.503702\n",
      "[106]\tvalidation_0-logloss:0.502631\n",
      "[107]\tvalidation_0-logloss:0.501053\n",
      "[108]\tvalidation_0-logloss:0.499993\n",
      "[109]\tvalidation_0-logloss:0.49843\n",
      "[110]\tvalidation_0-logloss:0.497382\n",
      "[111]\tvalidation_0-logloss:0.496344\n",
      "[112]\tvalidation_0-logloss:0.494801\n",
      "[113]\tvalidation_0-logloss:0.4933\n",
      "[114]\tvalidation_0-logloss:0.491811\n",
      "[115]\tvalidation_0-logloss:0.490306\n",
      "[116]\tvalidation_0-logloss:0.4888\n",
      "[117]\tvalidation_0-logloss:0.487787\n",
      "[118]\tvalidation_0-logloss:0.486295\n",
      "[119]\tvalidation_0-logloss:0.485292\n",
      "[120]\tvalidation_0-logloss:0.483815\n",
      "[121]\tvalidation_0-logloss:0.482823\n",
      "[122]\tvalidation_0-logloss:0.48184\n",
      "[123]\tvalidation_0-logloss:0.480377\n",
      "[124]\tvalidation_0-logloss:0.479404\n",
      "[125]\tvalidation_0-logloss:0.477955\n",
      "[126]\tvalidation_0-logloss:0.476992\n",
      "[127]\tvalidation_0-logloss:0.475556\n",
      "[128]\tvalidation_0-logloss:0.474604\n",
      "[129]\tvalidation_0-logloss:0.473181\n",
      "[130]\tvalidation_0-logloss:0.472238\n",
      "[131]\tvalidation_0-logloss:0.471304\n",
      "[132]\tvalidation_0-logloss:0.469894\n",
      "[133]\tvalidation_0-logloss:0.468969\n",
      "[134]\tvalidation_0-logloss:0.467588\n",
      "[135]\tvalidation_0-logloss:0.466202\n",
      "[136]\tvalidation_0-logloss:0.464827\n",
      "[137]\tvalidation_0-logloss:0.463913\n",
      "[138]\tvalidation_0-logloss:0.46255\n",
      "[139]\tvalidation_0-logloss:0.461646\n",
      "[140]\tvalidation_0-logloss:0.460295\n",
      "[141]\tvalidation_0-logloss:0.459402\n",
      "[142]\tvalidation_0-logloss:0.458518\n",
      "[143]\tvalidation_0-logloss:0.457177\n",
      "[144]\tvalidation_0-logloss:0.456301\n",
      "[145]\tvalidation_0-logloss:0.454972\n",
      "[146]\tvalidation_0-logloss:0.454104\n",
      "[147]\tvalidation_0-logloss:0.452789\n",
      "[148]\tvalidation_0-logloss:0.451927\n",
      "[149]\tvalidation_0-logloss:0.450624\n",
      "[150]\tvalidation_0-logloss:0.44977\n",
      "[151]\tvalidation_0-logloss:0.448478\n",
      "[152]\tvalidation_0-logloss:0.447632\n",
      "[153]\tvalidation_0-logloss:0.446794\n",
      "[154]\tvalidation_0-logloss:0.445514\n",
      "[155]\tvalidation_0-logloss:0.444684\n",
      "[156]\tvalidation_0-logloss:0.443415\n",
      "[157]\tvalidation_0-logloss:0.442592\n",
      "[158]\tvalidation_0-logloss:0.441348\n",
      "[159]\tvalidation_0-logloss:0.440098\n",
      "[160]\tvalidation_0-logloss:0.438859\n",
      "[161]\tvalidation_0-logloss:0.438046\n",
      "[162]\tvalidation_0-logloss:0.436817\n",
      "[163]\tvalidation_0-logloss:0.436012\n",
      "[164]\tvalidation_0-logloss:0.435213\n",
      "[165]\tvalidation_0-logloss:0.433995\n",
      "[166]\tvalidation_0-logloss:0.433204\n",
      "[167]\tvalidation_0-logloss:0.431997\n",
      "[168]\tvalidation_0-logloss:0.431213\n",
      "[169]\tvalidation_0-logloss:0.430027\n",
      "[170]\tvalidation_0-logloss:0.428835\n",
      "[171]\tvalidation_0-logloss:0.428062\n",
      "[172]\tvalidation_0-logloss:0.42688\n",
      "[173]\tvalidation_0-logloss:0.426115\n",
      "[174]\tvalidation_0-logloss:0.424942\n",
      "[175]\tvalidation_0-logloss:0.424184\n",
      "[176]\tvalidation_0-logloss:0.423021\n",
      "[177]\tvalidation_0-logloss:0.42227\n",
      "[178]\tvalidation_0-logloss:0.421129\n",
      "[179]\tvalidation_0-logloss:0.419984\n",
      "[180]\tvalidation_0-logloss:0.418845\n",
      "[181]\tvalidation_0-logloss:0.418103\n",
      "[182]\tvalidation_0-logloss:0.417368\n",
      "[183]\tvalidation_0-logloss:0.416239\n",
      "[184]\tvalidation_0-logloss:0.41551\n",
      "[185]\tvalidation_0-logloss:0.41439\n",
      "[186]\tvalidation_0-logloss:0.413667\n",
      "[187]\tvalidation_0-logloss:0.412556\n",
      "[188]\tvalidation_0-logloss:0.41184\n",
      "[189]\tvalidation_0-logloss:0.410738\n",
      "[190]\tvalidation_0-logloss:0.410029\n",
      "[191]\tvalidation_0-logloss:0.409323\n",
      "[192]\tvalidation_0-logloss:0.408233\n",
      "[193]\tvalidation_0-logloss:0.407151\n",
      "[194]\tvalidation_0-logloss:0.406451\n",
      "[195]\tvalidation_0-logloss:0.405756\n",
      "[196]\tvalidation_0-logloss:0.404683\n",
      "[197]\tvalidation_0-logloss:0.403995\n",
      "[198]\tvalidation_0-logloss:0.40293\n",
      "[199]\tvalidation_0-logloss:0.402248\n",
      "[200]\tvalidation_0-logloss:0.401192\n",
      "[201]\tvalidation_0-logloss:0.400515\n",
      "[202]\tvalidation_0-logloss:0.399843\n",
      "[203]\tvalidation_0-logloss:0.398808\n",
      "[204]\tvalidation_0-logloss:0.397768\n",
      "[205]\tvalidation_0-logloss:0.396736\n",
      "[206]\tvalidation_0-logloss:0.396071\n",
      "[207]\tvalidation_0-logloss:0.395046\n",
      "[208]\tvalidation_0-logloss:0.394669\n",
      "[209]\tvalidation_0-logloss:0.394012\n",
      "[210]\tvalidation_0-logloss:0.392994\n",
      "[211]\tvalidation_0-logloss:0.392622\n",
      "[212]\tvalidation_0-logloss:0.391611\n",
      "[213]\tvalidation_0-logloss:0.390962\n",
      "[214]\tvalidation_0-logloss:0.390319\n",
      "[215]\tvalidation_0-logloss:0.389953\n",
      "[216]\tvalidation_0-logloss:0.38895\n",
      "[217]\tvalidation_0-logloss:0.387968\n",
      "[218]\tvalidation_0-logloss:0.386977\n",
      "[219]\tvalidation_0-logloss:0.386617\n",
      "[220]\tvalidation_0-logloss:0.385633\n",
      "[221]\tvalidation_0-logloss:0.385001\n",
      "[222]\tvalidation_0-logloss:0.384646\n",
      "[223]\tvalidation_0-logloss:0.38367\n",
      "[224]\tvalidation_0-logloss:0.383044\n",
      "[225]\tvalidation_0-logloss:0.382693\n",
      "[226]\tvalidation_0-logloss:0.38174\n",
      "[227]\tvalidation_0-logloss:0.380777\n",
      "[228]\tvalidation_0-logloss:0.379822\n",
      "[229]\tvalidation_0-logloss:0.379204\n"
     ]
    },
    {
     "name": "stdout",
     "output_type": "stream",
     "text": [
      "[230]\tvalidation_0-logloss:0.378859\n",
      "[231]\tvalidation_0-logloss:0.37791\n",
      "[232]\tvalidation_0-logloss:0.377299\n",
      "[233]\tvalidation_0-logloss:0.376358\n",
      "[234]\tvalidation_0-logloss:0.376017\n",
      "[235]\tvalidation_0-logloss:0.375412\n",
      "[236]\tvalidation_0-logloss:0.374478\n",
      "[237]\tvalidation_0-logloss:0.374142\n",
      "[238]\tvalidation_0-logloss:0.373543\n",
      "[239]\tvalidation_0-logloss:0.372632\n",
      "[240]\tvalidation_0-logloss:0.371711\n",
      "[241]\tvalidation_0-logloss:0.370797\n",
      "[242]\tvalidation_0-logloss:0.370467\n",
      "[243]\tvalidation_0-logloss:0.369875\n",
      "[244]\tvalidation_0-logloss:0.368966\n",
      "[245]\tvalidation_0-logloss:0.36864\n",
      "[246]\tvalidation_0-logloss:0.367779\n",
      "[247]\tvalidation_0-logloss:0.366925\n",
      "[248]\tvalidation_0-logloss:0.366604\n",
      "[249]\tvalidation_0-logloss:0.365726\n"
     ]
    },
    {
     "data": {
      "text/plain": [
       "XGBClassifier(base_score=0.5, booster='gbtree', colsample_bylevel=1,\n",
       "       colsample_bynode=1, colsample_bytree=1, gamma=0, learning_rate=0.01,\n",
       "       max_delta_step=0, max_depth=5, min_child_weight=0.5, missing=None,\n",
       "       n_estimators=250, n_jobs=1, nthread=2, object='binary:logistic',\n",
       "       objective='binary:logistic', random_state=0, reg_alpha=0,\n",
       "       reg_lambda=1, scale_pos_weight=1, seed=17, silent=None, subsample=1,\n",
       "       verbosity=1)"
      ]
     },
     "execution_count": 16,
     "metadata": {},
     "output_type": "execute_result"
    }
   ],
   "source": [
    "model.fit(df.drop(columns=[target_name]), df[target_name]\n",
    "         , eval_metric=eval_metric\n",
    "          , eval_set=eval_set, early_stopping_rounds=5, verbose=True\n",
    "         )"
   ]
  },
  {
   "cell_type": "markdown",
   "metadata": {},
   "source": [
    "# Predictions"
   ]
  },
  {
   "cell_type": "code",
   "execution_count": 17,
   "metadata": {},
   "outputs": [
    {
     "name": "stderr",
     "output_type": "stream",
     "text": [
      "C:\\Users\\IS96273\\AppData\\Local\\Continuum\\anaconda3\\lib\\site-packages\\sklearn\\preprocessing\\label.py:151: DeprecationWarning: The truth value of an empty array is ambiguous. Returning False, but in future this will result in an error. Use `array.size > 0` to check that an array is not empty.\n",
      "  if diff:\n"
     ]
    }
   ],
   "source": [
    "predictions = model.predict(df.drop(columns=[target_name]))"
   ]
  },
  {
   "cell_type": "code",
   "execution_count": 18,
   "metadata": {},
   "outputs": [],
   "source": [
    "actuals = df[target_name].values"
   ]
  },
  {
   "cell_type": "code",
   "execution_count": 19,
   "metadata": {},
   "outputs": [
    {
     "data": {
      "text/plain": [
       "array([0, 0, 1, 1, 1, 0, 1, 0, 1, 1, 1, 1, 1, 0], dtype=int64)"
      ]
     },
     "execution_count": 19,
     "metadata": {},
     "output_type": "execute_result"
    }
   ],
   "source": [
    "actuals"
   ]
  },
  {
   "cell_type": "code",
   "execution_count": 20,
   "metadata": {},
   "outputs": [
    {
     "data": {
      "text/plain": [
       "array([0, 0, 1, 1, 1, 0, 1, 0, 1, 1, 1, 1, 1, 0], dtype=int64)"
      ]
     },
     "execution_count": 20,
     "metadata": {},
     "output_type": "execute_result"
    }
   ],
   "source": [
    "predictions"
   ]
  },
  {
   "cell_type": "code",
   "execution_count": 21,
   "metadata": {},
   "outputs": [
    {
     "name": "stdout",
     "output_type": "stream",
     "text": [
      "Prediction is  0  whereas actual was  0 (CLASSIFIED)\n",
      "Prediction is  0  whereas actual was  0 (CLASSIFIED)\n",
      "Prediction is  1  whereas actual was  1 (CLASSIFIED)\n",
      "Prediction is  1  whereas actual was  1 (CLASSIFIED)\n",
      "Prediction is  1  whereas actual was  1 (CLASSIFIED)\n",
      "Prediction is  0  whereas actual was  0 (CLASSIFIED)\n",
      "Prediction is  1  whereas actual was  1 (CLASSIFIED)\n",
      "Prediction is  0  whereas actual was  0 (CLASSIFIED)\n",
      "Prediction is  1  whereas actual was  1 (CLASSIFIED)\n",
      "Prediction is  1  whereas actual was  1 (CLASSIFIED)\n",
      "Prediction is  1  whereas actual was  1 (CLASSIFIED)\n",
      "Prediction is  1  whereas actual was  1 (CLASSIFIED)\n",
      "Prediction is  1  whereas actual was  1 (CLASSIFIED)\n",
      "Prediction is  0  whereas actual was  0 (CLASSIFIED)\n"
     ]
    }
   ],
   "source": [
    "mae = 0\n",
    "\n",
    "for i in range(0, len(predictions)):\n",
    "    prediction = predictions[i]\n",
    "    actual = actuals[i]\n",
    "    \n",
    "    if enableRegression:\n",
    "        error = abs(actual - prediction)\n",
    "        mae += error\n",
    "        print(\"Prediction is \", prediction,\" whereas actual was \", actual,\" (Error: \",error,\")\")\n",
    "    else:\n",
    "        print(\"Prediction is \", prediction,\" whereas actual was \", actual, end ='')\n",
    "\n",
    "        if actual == prediction:\n",
    "            print(\" (CLASSIFIED)\")\n",
    "        else:\n",
    "            print(\" (UNCLASSIFIED)\")\n",
    "\n",
    "if enableRegression:\n",
    "    mae = mae / len(predictions)\n",
    "    print(\"MAE: \", mae)"
   ]
  },
  {
   "cell_type": "markdown",
   "metadata": {},
   "source": [
    "# Prediction Probabilities"
   ]
  },
  {
   "cell_type": "code",
   "execution_count": 25,
   "metadata": {},
   "outputs": [
    {
     "name": "stdout",
     "output_type": "stream",
     "text": [
      "        P_No     P_Yes\n",
      "0   0.656330  0.343670\n",
      "1   0.689739  0.310261\n",
      "2   0.144400  0.855600\n",
      "3   0.344713  0.655287\n",
      "4   0.274830  0.725170\n",
      "5   0.609960  0.390040\n",
      "6   0.167486  0.832514\n",
      "7   0.638398  0.361602\n",
      "8   0.299657  0.700343\n",
      "9   0.302869  0.697131\n",
      "10  0.409896  0.590104\n",
      "11  0.338631  0.661369\n",
      "12  0.144400  0.855600\n",
      "13  0.614243  0.385757\n"
     ]
    }
   ],
   "source": [
    "if enableRegression != True:\n",
    "    prediction_proba = model.predict_proba(df.drop(columns=[target_name]))\n",
    "    print(pd.DataFrame(prediction_proba, columns=['P_No', 'P_Yes']))"
   ]
  },
  {
   "cell_type": "code",
   "execution_count": null,
   "metadata": {},
   "outputs": [],
   "source": []
  }
 ],
 "metadata": {
  "kernelspec": {
   "display_name": "Python 3",
   "language": "python",
   "name": "python3"
  },
  "language_info": {
   "codemirror_mode": {
    "name": "ipython",
    "version": 3
   },
   "file_extension": ".py",
   "mimetype": "text/x-python",
   "name": "python",
   "nbconvert_exporter": "python",
   "pygments_lexer": "ipython3",
   "version": "3.6.4"
  }
 },
 "nbformat": 4,
 "nbformat_minor": 2
}
